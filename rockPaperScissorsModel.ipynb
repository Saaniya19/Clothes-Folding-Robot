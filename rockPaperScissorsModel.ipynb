{
  "nbformat": 4,
  "nbformat_minor": 0,
  "metadata": {
    "colab": {
      "provenance": [],
      "authorship_tag": "ABX9TyPpDKCPHkIVfYHJgxcT+hC+",
      "include_colab_link": true
    },
    "kernelspec": {
      "name": "python3",
      "display_name": "Python 3"
    },
    "language_info": {
      "name": "python"
    }
  },
  "cells": [
    {
      "cell_type": "markdown",
      "metadata": {
        "id": "view-in-github",
        "colab_type": "text"
      },
      "source": [
        "<a href=\"https://colab.research.google.com/github/Saaniya19/Clothes-Folding-Robot/blob/main/rockPaperScissorsModel.ipynb\" target=\"_parent\"><img src=\"https://colab.research.google.com/assets/colab-badge.svg\" alt=\"Open In Colab\"/></a>"
      ]
    },
    {
      "cell_type": "code",
      "execution_count": 2,
      "metadata": {
        "colab": {
          "base_uri": "https://localhost:8080/"
        },
        "id": "pVCupmxORR3x",
        "outputId": "54c98cfc-6f92-499f-ecd3-b5202e877c0c"
      },
      "outputs": [
        {
          "output_type": "stream",
          "name": "stdout",
          "text": [
            "--2023-08-22 00:47:24--  https://storage.googleapis.com/learning-datasets/rps.zip\n",
            "Resolving storage.googleapis.com (storage.googleapis.com)... 142.251.2.128, 74.125.137.128, 142.250.101.128, ...\n",
            "Connecting to storage.googleapis.com (storage.googleapis.com)|142.251.2.128|:443... connected.\n",
            "HTTP request sent, awaiting response... 200 OK\n",
            "Length: 200682221 (191M) [application/zip]\n",
            "Saving to: ‘/tmp/rps.zip’\n",
            "\n",
            "/tmp/rps.zip        100%[===================>] 191.38M   256MB/s    in 0.7s    \n",
            "\n",
            "2023-08-22 00:47:25 (256 MB/s) - ‘/tmp/rps.zip’ saved [200682221/200682221]\n",
            "\n",
            "--2023-08-22 00:47:25--  https://storage.googleapis.com/learning-datasets/rps-test-set.zip\n",
            "Resolving storage.googleapis.com (storage.googleapis.com)... 142.251.2.128, 74.125.137.128, 142.250.101.128, ...\n",
            "Connecting to storage.googleapis.com (storage.googleapis.com)|142.251.2.128|:443... connected.\n",
            "HTTP request sent, awaiting response... 200 OK\n",
            "Length: 29516758 (28M) [application/zip]\n",
            "Saving to: ‘/tmp/rps-test-set.zip’\n",
            "\n",
            "/tmp/rps-test-set.z 100%[===================>]  28.15M  --.-KB/s    in 0.1s    \n",
            "\n",
            "2023-08-22 00:47:25 (221 MB/s) - ‘/tmp/rps-test-set.zip’ saved [29516758/29516758]\n",
            "\n"
          ]
        }
      ],
      "source": [
        "!wget --no-check-certificate \\\n",
        "    https://storage.googleapis.com/learning-datasets/rps.zip \\\n",
        "    -O /tmp/rps.zip\n",
        "\n",
        "!wget --no-check-certificate \\\n",
        "    https://storage.googleapis.com/learning-datasets/rps-test-set.zip \\\n",
        "    -O /tmp/rps-test-set.zip"
      ]
    },
    {
      "cell_type": "markdown",
      "source": [
        "**Importing all libraries and directories below**"
      ],
      "metadata": {
        "id": "MgwP6xZNSC6-"
      }
    },
    {
      "cell_type": "code",
      "source": [
        "import os\n",
        "import zipfile   # so we can unzip the files\n",
        "import tensorflow as tf\n",
        "import keras.preprocessing    # keras is a high level NN library that runs on top of tensorflow\n",
        "from keras.preprocessing import image\n",
        "from keras.preprocessing.image import ImageDataGenerator     # to generate more images from the training images\n",
        "from IPython.display import display, Javascript\n",
        "from google.colab.output import eval_js\n",
        "from base64 import b64decode\n",
        "from IPython.display import Image    # to capture image using camera\n",
        "import numpy as np\n",
        "from google.colab import files\n",
        "import keras.utils as image"
      ],
      "metadata": {
        "id": "mR0tBhgaRsBU"
      },
      "execution_count": 7,
      "outputs": []
    },
    {
      "cell_type": "markdown",
      "source": [
        "**Unzipping all training and testing files**"
      ],
      "metadata": {
        "id": "QRMrafNNSwY8"
      }
    },
    {
      "cell_type": "code",
      "source": [
        "local_zip = '/tmp/rps.zip'\n",
        "zip_ref = zipfile.ZipFile(local_zip, 'r')\n",
        "zip_ref.extractall('/tmp/')\n",
        "zip_ref.close()\n",
        "\n",
        "local_zip = '/tmp/rps-test-set.zip'\n",
        "zip_ref = zipfile.ZipFile(local_zip, 'r')\n",
        "zip_ref.extractall('/tmp/')\n",
        "zip_ref.close()\n",
        "\n",
        "rock_dir = os.path.join('/tmp/rps/rock')\n",
        "paper_dir = os.path.join('/tmp/rps/paper')\n",
        "scissors_dir = os.path.join('/tmp/rps/scissors')\n",
        "\n",
        "print('total training rock images:', len(os.listdir(rock_dir)))\n",
        "print('total training paper images:', len(os.listdir(paper_dir)))\n",
        "print('total training scissors images:', len(os.listdir(scissors_dir)))"
      ],
      "metadata": {
        "colab": {
          "base_uri": "https://localhost:8080/"
        },
        "id": "jS1SyKRGTGIK",
        "outputId": "81e6e6e7-24e2-4df3-a9f2-7116c9437c84"
      },
      "execution_count": 8,
      "outputs": [
        {
          "output_type": "stream",
          "name": "stdout",
          "text": [
            "total training rock images: 840\n",
            "total training paper images: 840\n",
            "total training scissors images: 840\n"
          ]
        }
      ]
    },
    {
      "cell_type": "markdown",
      "source": [
        "**Training from image data**"
      ],
      "metadata": {
        "id": "wWKSlV5aTOW2"
      }
    },
    {
      "cell_type": "code",
      "source": [
        "# when training in tensorflow using an image data generator\n",
        "# it will automatically label the images based on the name of their parent directory\n",
        "\n",
        "# training set generator\n",
        "TRAINING_DIR = \"/tmp/rps/\"\n",
        "# ImageDataGenerator is a keras class that creates variations of training images for model generalization\n",
        "training_datagen = ImageDataGenerator(\n",
        "    # the following are the parameters by which it creates variations of the training images\n",
        "    # eg. randomly rotating by some number of degrees, shifting horizontally or vertically, zooming, etc.\n",
        "      # rescale = 1./255,\n",
        "\t    # rotation_range=40,\n",
        "      # width_shift_range=0.2,\n",
        "      # height_shift_range=0.2,\n",
        "      # shear_range=0.2,\n",
        "      # zoom_range=0.2,\n",
        "      horizontal_flip=True,\n",
        "      fill_mode='nearest')\n",
        "\n",
        "# test set generator\n",
        "VALIDATION_DIR = \"/tmp/rps-test-set/\"\n",
        "validation_datagen = ImageDataGenerator(rescale = 1./255)\n",
        "\n",
        "train_generator = training_datagen.flow_from_directory(\n",
        "\tTRAINING_DIR,\n",
        "\ttarget_size=(150,150),\n",
        "\tclass_mode='categorical',\n",
        "  batch_size=126\n",
        ")\n",
        "\n",
        "validation_generator = validation_datagen.flow_from_directory(\n",
        "\tVALIDATION_DIR,\n",
        "\ttarget_size=(150,150),\n",
        " # set to categorical because its a multiclass classification problem (rock, paper and scissors)\n",
        "\tclass_mode='categorical',\n",
        " # batch size is the num of images that will be loaded and processed together as a batch\n",
        "  batch_size=126\n",
        ")\n",
        "\n",
        "model = tf.keras.models.Sequential([\n",
        "    # the input shape is a 150 x 150 pixels image with 3 bytes color\n",
        "    # this is the first convolution (with Max Pooling)\n",
        "    # output shape is 3 because there are 3 classifications: rock, paper, scissors\n",
        "    tf.keras.layers.Conv2D(64, (3,3), activation='relu', input_shape=(150, 150, 3)),\n",
        "    tf.keras.layers.MaxPooling2D(2, 2),\n",
        "    # the second convolution\n",
        "    tf.keras.layers.Conv2D(64, (3,3), activation='relu'),\n",
        "    tf.keras.layers.MaxPooling2D(2,2),\n",
        "    # the third convolution\n",
        "    tf.keras.layers.Conv2D(128, (3,3), activation='relu'),\n",
        "    tf.keras.layers.MaxPooling2D(2,2),\n",
        "    # the fourth convolution\n",
        "    tf.keras.layers.Conv2D(128, (3,3), activation='relu'),\n",
        "    tf.keras.layers.MaxPooling2D(2,2),\n",
        "    # flatten the results to feed into a DNN\n",
        "    # dropout helps to improve the efficiency of the NN by throwing away unnescessary neurons\n",
        "    tf.keras.layers.Flatten(),\n",
        "    tf.keras.layers.Dropout(0.5),\n",
        "    # two dense layers in NN\n",
        "    # 512 neuron hidden layer\n",
        "    tf.keras.layers.Dense(512, activation='relu'),\n",
        "    # 3 because there are three classifications (rock, paper, scissors)\n",
        "    tf.keras.layers.Dense(3, activation='softmax')\n",
        "])\n",
        "\n",
        "\n",
        "model.summary()\n",
        "\n",
        "model.compile(loss = 'categorical_crossentropy', optimizer='rmsprop', metrics=['accuracy'])\n",
        "\n",
        "history = model.fit(train_generator, epochs=15, steps_per_epoch=10, validation_data = validation_generator, verbose = 1, validation_steps=3)\n",
        "\n",
        "model.save(\"rps.h5\")"
      ],
      "metadata": {
        "colab": {
          "base_uri": "https://localhost:8080/"
        },
        "id": "8xcHNn44TNQS",
        "outputId": "ac6ad0af-8acd-4940-eb5c-5d86c7c711f9"
      },
      "execution_count": 9,
      "outputs": [
        {
          "output_type": "stream",
          "name": "stdout",
          "text": [
            "Found 2520 images belonging to 3 classes.\n",
            "Found 372 images belonging to 3 classes.\n",
            "Model: \"sequential\"\n",
            "_________________________________________________________________\n",
            " Layer (type)                Output Shape              Param #   \n",
            "=================================================================\n",
            " conv2d (Conv2D)             (None, 148, 148, 64)      1792      \n",
            "                                                                 \n",
            " max_pooling2d (MaxPooling2D  (None, 74, 74, 64)       0         \n",
            " )                                                               \n",
            "                                                                 \n",
            " conv2d_1 (Conv2D)           (None, 72, 72, 64)        36928     \n",
            "                                                                 \n",
            " max_pooling2d_1 (MaxPooling  (None, 36, 36, 64)       0         \n",
            " 2D)                                                             \n",
            "                                                                 \n",
            " conv2d_2 (Conv2D)           (None, 34, 34, 128)       73856     \n",
            "                                                                 \n",
            " max_pooling2d_2 (MaxPooling  (None, 17, 17, 128)      0         \n",
            " 2D)                                                             \n",
            "                                                                 \n",
            " conv2d_3 (Conv2D)           (None, 15, 15, 128)       147584    \n",
            "                                                                 \n",
            " max_pooling2d_3 (MaxPooling  (None, 7, 7, 128)        0         \n",
            " 2D)                                                             \n",
            "                                                                 \n",
            " flatten (Flatten)           (None, 6272)              0         \n",
            "                                                                 \n",
            " dropout (Dropout)           (None, 6272)              0         \n",
            "                                                                 \n",
            " dense (Dense)               (None, 512)               3211776   \n",
            "                                                                 \n",
            " dense_1 (Dense)             (None, 3)                 1539      \n",
            "                                                                 \n",
            "=================================================================\n",
            "Total params: 3,473,475\n",
            "Trainable params: 3,473,475\n",
            "Non-trainable params: 0\n",
            "_________________________________________________________________\n",
            "Epoch 1/15\n",
            "10/10 [==============================] - 115s 11s/step - loss: 203.4393 - accuracy: 0.3389 - val_loss: 1.0988 - val_accuracy: 0.3333\n",
            "Epoch 2/15\n",
            "10/10 [==============================] - 113s 11s/step - loss: 1.3336 - accuracy: 0.4389 - val_loss: 1.0977 - val_accuracy: 0.3333\n",
            "Epoch 3/15\n",
            "10/10 [==============================] - 109s 11s/step - loss: 0.8786 - accuracy: 0.6302 - val_loss: 1.0956 - val_accuracy: 0.5484\n",
            "Epoch 4/15\n",
            "10/10 [==============================] - 118s 12s/step - loss: 0.5780 - accuracy: 0.7405 - val_loss: 1.0925 - val_accuracy: 0.5430\n",
            "Epoch 5/15\n",
            "10/10 [==============================] - 114s 11s/step - loss: 1.1083 - accuracy: 0.6825 - val_loss: 1.0965 - val_accuracy: 0.4758\n",
            "Epoch 6/15\n",
            "10/10 [==============================] - 111s 11s/step - loss: 1.6591 - accuracy: 0.6841 - val_loss: 1.0902 - val_accuracy: 0.6129\n",
            "Epoch 7/15\n",
            "10/10 [==============================] - 109s 11s/step - loss: 1.0271 - accuracy: 0.6595 - val_loss: 1.0959 - val_accuracy: 0.3414\n",
            "Epoch 8/15\n",
            "10/10 [==============================] - 111s 11s/step - loss: 0.5230 - accuracy: 0.7833 - val_loss: 1.0902 - val_accuracy: 0.5914\n",
            "Epoch 9/15\n",
            "10/10 [==============================] - 116s 12s/step - loss: 0.2955 - accuracy: 0.8905 - val_loss: 1.0867 - val_accuracy: 0.5833\n",
            "Epoch 10/15\n",
            "10/10 [==============================] - 112s 11s/step - loss: 0.1763 - accuracy: 0.9373 - val_loss: 1.0842 - val_accuracy: 0.5887\n",
            "Epoch 11/15\n",
            "10/10 [==============================] - 109s 11s/step - loss: 0.3296 - accuracy: 0.9079 - val_loss: 1.0901 - val_accuracy: 0.6425\n",
            "Epoch 12/15\n",
            "10/10 [==============================] - 110s 11s/step - loss: 4.5315 - accuracy: 0.6444 - val_loss: 1.0938 - val_accuracy: 0.4140\n",
            "Epoch 13/15\n",
            "10/10 [==============================] - 108s 11s/step - loss: 0.2027 - accuracy: 0.9278 - val_loss: 1.0839 - val_accuracy: 0.5161\n",
            "Epoch 14/15\n",
            "10/10 [==============================] - 119s 12s/step - loss: 0.3130 - accuracy: 0.9206 - val_loss: 1.0814 - val_accuracy: 0.5323\n",
            "Epoch 15/15\n",
            "10/10 [==============================] - 121s 12s/step - loss: 0.1196 - accuracy: 0.9643 - val_loss: 1.0721 - val_accuracy: 0.5914\n"
          ]
        }
      ]
    },
    {
      "cell_type": "markdown",
      "source": [
        "**Capturing photo from camera**"
      ],
      "metadata": {
        "id": "dMDxvRAfT2uD"
      }
    },
    {
      "cell_type": "code",
      "source": [
        "def take_photo(filename='photo.jpg', quality=0.8):\n",
        "  js = Javascript('''\n",
        "    async function takePhoto(quality) {\n",
        "      const div = document.createElement('div');\n",
        "      const capture = document.createElement('button');\n",
        "      capture.textContent = 'Capture';\n",
        "      div.appendChild(capture);\n",
        "\n",
        "      const video = document.createElement('video');\n",
        "      video.style.display = 'block';\n",
        "      const stream = await navigator.mediaDevices.getUserMedia({video: true});\n",
        "\n",
        "      document.body.appendChild(div);\n",
        "      div.appendChild(video);\n",
        "      video.srcObject = stream;\n",
        "      await video.play();\n",
        "\n",
        "      // Resize the output to fit the video element.\n",
        "      google.colab.output.setIframeHeight(document.documentElement.scrollHeight, true);\n",
        "\n",
        "      // Wait for Capture to be clicked.\n",
        "      await new Promise((resolve) => capture.onclick = resolve);\n",
        "\n",
        "      const canvas = document.createElement('canvas');\n",
        "      canvas.width = video.videoWidth;\n",
        "      canvas.height = video.videoHeight;\n",
        "      canvas.getContext('2d').drawImage(video, 0, 0);\n",
        "      stream.getVideoTracks()[0].stop();\n",
        "      div.remove();\n",
        "      return canvas.toDataURL('image/jpeg', quality);\n",
        "    }\n",
        "    ''')\n",
        "  display(js)\n",
        "  data = eval_js('takePhoto({})'.format(quality))\n",
        "  binary = b64decode(data.split(',')[1])\n",
        "  with open(filename, 'wb') as f:\n",
        "    f.write(binary)\n",
        "  return filename\n",
        "\n",
        "\n",
        "filename = take_photo()\n",
        "print('Saved to {}'.format(filename))\n",
        "\n",
        "# Show the image which was just taken.\n",
        "display(Image(filename))"
      ],
      "metadata": {
        "colab": {
          "base_uri": "https://localhost:8080/",
          "height": 507
        },
        "id": "j85zaMFaT71h",
        "outputId": "de6a8f81-9265-4d9e-b4a4-93b6a27bd67b"
      },
      "execution_count": 13,
      "outputs": [
        {
          "output_type": "display_data",
          "data": {
            "text/plain": [
              "<IPython.core.display.Javascript object>"
            ],
            "application/javascript": [
              "\n",
              "    async function takePhoto(quality) {\n",
              "      const div = document.createElement('div');\n",
              "      const capture = document.createElement('button');\n",
              "      capture.textContent = 'Capture';\n",
              "      div.appendChild(capture);\n",
              "\n",
              "      const video = document.createElement('video');\n",
              "      video.style.display = 'block';\n",
              "      const stream = await navigator.mediaDevices.getUserMedia({video: true});\n",
              "\n",
              "      document.body.appendChild(div);\n",
              "      div.appendChild(video);\n",
              "      video.srcObject = stream;\n",
              "      await video.play();\n",
              "\n",
              "      // Resize the output to fit the video element.\n",
              "      google.colab.output.setIframeHeight(document.documentElement.scrollHeight, true);\n",
              "\n",
              "      // Wait for Capture to be clicked.\n",
              "      await new Promise((resolve) => capture.onclick = resolve);\n",
              "\n",
              "      const canvas = document.createElement('canvas');\n",
              "      canvas.width = video.videoWidth;\n",
              "      canvas.height = video.videoHeight;\n",
              "      canvas.getContext('2d').drawImage(video, 0, 0);\n",
              "      stream.getVideoTracks()[0].stop();\n",
              "      div.remove();\n",
              "      return canvas.toDataURL('image/jpeg', quality);\n",
              "    }\n",
              "    "
            ]
          },
          "metadata": {}
        },
        {
          "output_type": "stream",
          "name": "stdout",
          "text": [
            "Saved to photo.jpg\n"
          ]
        },
        {
          "output_type": "display_data",
          "data": {
            "image/jpeg": "[encoded data removed]",
            "text/plain": [
              "<IPython.core.display.Image object>"
            ]
          },
          "metadata": {}
        }
      ]
    },
    {
      "cell_type": "markdown",
      "source": [
        "**Predicting rock, paper or scissors from captured image**"
      ],
      "metadata": {
        "id": "E1EL3yRRUH6s"
      }
    },
    {
      "cell_type": "code",
      "source": [
        "# predicting images\n",
        "path = \"/content/photo.jpg\"\n",
        "img = image.load_img(path, target_size=(150, 150))\n",
        "x = image.img_to_array(img)\n",
        "x = np.expand_dims(x, axis=0)\n",
        "\n",
        "images = np.vstack([x])\n",
        "classes = model.predict(images, batch_size=2)\n",
        "if classes[0][0] == max(classes[0]):\n",
        "  print(\"Prediction: Paper\")\n",
        "  print(\"Computer Move: Scissors\")\n",
        "if classes[0][1] == max(classes[0]):\n",
        "  print(\"Prediction: Rock\")\n",
        "  print(\"Computer Move: Paper\")\n",
        "if classes[0][2] == max(classes[0]):\n",
        "  print(\"Prediction: Scissors\")\n",
        "  print(\"Computer Move: Rock\")"
      ],
      "metadata": {
        "colab": {
          "base_uri": "https://localhost:8080/"
        },
        "id": "nIP8DJU7UMpK",
        "outputId": "19dcaf20-3eb1-4a91-accf-e987bd8894cf"
      },
      "execution_count": 16,
      "outputs": [
        {
          "output_type": "stream",
          "name": "stdout",
          "text": [
            "1/1 [==============================] - 0s 40ms/step\n",
            "Prediction: Rock\n",
            "Computer Move: Paper\n"
          ]
        }
      ]
    }
  ]
}